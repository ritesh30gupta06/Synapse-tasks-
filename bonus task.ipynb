{
 "cells": [
  {
   "cell_type": "markdown",
   "metadata": {
    "id": "yOnwD6Hbhcpp"
   },
   "source": [
    "# 🎯 Bonus Quest: The Exam Oracle 3000\n",
    "## 📖 Storytime\n",
    "Welcome, young **data sorcerer** 🧙‍♂️! Your mission is to forge the *Exam Oracle 3000*, a mystical neural network that peers into the academic abyss to predict whether a student will **Pass** or **Fail** their exams. One misstep in your forward propagation spell, and the oracle will spew nonsense!\n",
    "\n",
    "---\n",
    "\n",
    "## ⚙️ The Oracle’s Sacred Blueprint\n",
    "The Council of AI Elders has decreed the following structure:\n",
    "\n",
    "- **Input Layer**: 3 neurons (e.g., study hours, attendance %, quiz score).  \n",
    "- **Hidden Layers**: 1 layer, each with 3–5 neurons (your choice). These are the mystery chambers where exam fates are woven.  \n",
    "- **Output Layer**: 2 neurons:  \n",
    "  - Neuron 1: Probability of **Pass**.  \n",
    "  - Neuron 2: Probability of **Fail**.\n",
    "\n",
    "### 🔮 Activation Magic\n",
    "Every neuron must wield the **Sigmoid** function to keep predictions between 0 and 1:\n",
    "$$\n",
    "\\sigma(z) = \\frac{1}{1 + e^{-z}}\n",
    "$$\n",
    "\n",
    "Note: You can explore and try different activation functions as well!\n",
    "\n",
    "---\n",
    "\n",
    "\n",
    "\n",
    "## 🛠️ Your Task Scroll\n",
    "1. Write **Python code** (NumPy allowed) for **forward propagation**.  \n",
    "2. Assign your own **weights and biases** manually, as if you're the god of exam grading (e.g., give \"study hours\" a higher weight).  \n",
    "3. Try **2–3 different sets** of weights and biases to see how the oracle shifts its predictions.  \n",
    "4. For each layer, compute:\n",
    "   $$\n",
    "   Z = W \\cdot X + b\n",
    "   $$\n",
    "   $$\n",
    "   A = \\sigma(Z)\n",
    "   $$\n",
    "5. Output two probabilities: one for **Pass**, one for **Fail** (e.g., `[0.90, 0.10]` → 90% Pass chance).\n",
    "\n",
    "NOTE: First you are supposed to do the forward proporgation by yourself on pen and paper and then code! You can try giving different weights and biases and then decide on one which gives the most accurate results!\n",
    "\n",
    "---\n",
    "\n",
    "## 🎮 Play Mode: Test Your Oracle\n",
    "Test your oracle with **2–3 student profiles**:\n",
    "- **Student A**: [8 study hours, 90% attendance, 85% quiz score] → Should lean toward **Pass**.  \n",
    "- **Student B**: [2 study hours, 30% attendance, 20% quiz score] → Likely **Fail**.  \n",
    "- **Student C**: A mystery case with mixed values (your choice)!\n",
    "\n",
    "---\n",
    "\n",
    "## 🏆 Bonus Fun\n",
    "- Print dramatic verdicts:  \n",
    "  - \"🔮 The Oracle whispers: 95% chance of Passing. Rejoice, mortal!\"  \n",
    "  - \"💀 The Oracle warns: 12% chance of Passing. May the curve be ever in your favor…\"  \n",
    "- Compare your **Oracle v1**, **Oracle v2**, and **Oracle v3** (different weights/biases). Which is the wisest?\n",
    "\n",
    "---\n",
    "\n",
    "## 📜 Rules of the Quest\n",
    "- **Forward propagation only** (no backpropagation spells).  \n",
    "- Use **NumPy only**—no TensorFlow, PyTorch, or Keras.  \n",
    "- Keep it **fun**, **experiment**, and craft the most *realistic* oracle!\n",
    "\n",
    "---\n",
    "\n",
    "**Ready to cast your spell?** Build your Exam Oracle 3000! ✨"
   ]
  },
  {
   "cell_type": "code",
   "execution_count": 9,
   "metadata": {
    "colab": {
     "base_uri": "https://localhost:8080/"
    },
    "executionInfo": {
     "elapsed": 21,
     "status": "ok",
     "timestamp": 1756651993336,
     "user": {
      "displayName": "Ritesh Gupta",
      "userId": "05986472507772456452"
     },
     "user_tz": -330
    },
    "id": "cO9cEQCLhXhG",
    "outputId": "60c11a97-56ce-4afc-a65b-23ae68a53403"
   },
   "outputs": [
    {
     "name": "stdout",
     "output_type": "stream",
     "text": [
      "Student A: 🔮 The Oracle whispers: 66.19% chance of Passing. Rejoice, mortal!\n",
      "Student B: 💀 The Oracle warns: 34.33% chance of Passing. May the curve be ever in your favor...\n",
      "Student C: 🔮 The Oracle whispers: 54.51% chance of Passing. Rejoice, mortal!\n"
     ]
    }
   ],
   "source": [
    "import numpy as np\n",
    "\n",
    "def sigmoid(z):\n",
    "    return 1 / (1 + np.exp(-z))\n",
    "\n",
    "students = {\n",
    "    \"Student A\": np.array([[8, 90, 85]]),\n",
    "    \"Student B\": np.array([[2, 30, 20]]),\n",
    "    \"Student C\": np.array([[5, 60, 50]])\n",
    "}\n",
    "\n",
    "\n",
    "W1 = np.array([[0.05, 0.02, 0.03],\n",
    "               [0.04, 0.03, 0.02],\n",
    "               [0.03, 0.04, 0.05]])\n",
    "b1 = np.array([[-2], [-3], [-4]])\n",
    "\n",
    "\n",
    "W2 = np.array([[0.4, 0.6, 0.8],\n",
    "               [0.7, 0.5, 0.3]])\n",
    "b2 = np.array([[-1], [-1]])\n",
    "\n",
    "def oracle_predict(X):\n",
    "    X = X.T\n",
    "    Z1 = np.dot(W1, X) + b1\n",
    "    A1 = sigmoid(Z1)\n",
    "    Z2 = np.dot(W2, A1) + b2\n",
    "    A2 = sigmoid(Z2)\n",
    "    return A2.flatten()\n",
    "\n",
    "for name, student in students.items():\n",
    "    probs = oracle_predict(student)\n",
    "    pass_prob, fail_prob = probs[0], probs[1]\n",
    "\n",
    "    if pass_prob > fail_prob:\n",
    "        print(f\"{name}: 🔮 The Oracle whispers: {pass_prob*100:.2f}% chance of Passing. Rejoice, mortal!\")\n",
    "    else:\n",
    "        print(f\"{name}: 💀 The Oracle warns: {pass_prob*100:.2f}% chance of Passing. May the curve be ever in your favor...\")\n",
    "\n",
    "\n"
   ]
  },
  {
   "cell_type": "markdown",
   "metadata": {
    "id": "sHAMAwXJRyzZ"
   },
   "source": [
    "REFERENCE LINKS:\n",
    "\n",
    "https://www.youtube.com/watch?v=7MuiScUkboE\n",
    "\n",
    "https://www.youtube.com/watch?v=sNTtUV9yE_M&t=23s\n",
    "\n",
    "https://www.youtube.com/watch?v=99CcviQchd8 (For coding)\n",
    "\n",
    "\n",
    "BONUS: If you are still curious you can always explore more about artificial neural network and code using tensorflow!"
   ]
  }
 ],
 "metadata": {
  "colab": {
   "provenance": [
    {
     "file_id": "1JzSYSu-XDQNEE05LJCXOlRhWke9Ej-CL",
     "timestamp": 1756646156752
    }
   ]
  },
  "kernelspec": {
   "display_name": "Python 3",
   "name": "python3"
  },
  "language_info": {
   "name": "python"
  }
 },
 "nbformat": 4,
 "nbformat_minor": 0
}
